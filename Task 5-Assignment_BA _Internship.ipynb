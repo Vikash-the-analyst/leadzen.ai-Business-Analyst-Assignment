{
 "cells": [
  {
   "cell_type": "markdown",
   "id": "4b37db64",
   "metadata": {},
   "source": [
    "## Task 5-Assignment_BA _Internship"
   ]
  },
  {
   "cell_type": "markdown",
   "id": "1477b9cd",
   "metadata": {},
   "source": [
    "### 5. Need to find an API, through which we can send linkedin messages to other linkedin users"
   ]
  },
  {
   "cell_type": "markdown",
   "id": "b9168965",
   "metadata": {},
   "source": [
    "LinkedIn does not have a way for outside apps or tools to send messages to other users. They have strict rules against automated or bulk messaging to prevent spam. If you try to send unsolicited messages or automate messages on LinkedIn, your account could be suspended. It's important to follow their rules and only send messages in a way that respects their policies."
   ]
  },
  {
   "cell_type": "markdown",
   "id": "8d98ee9d",
   "metadata": {},
   "source": [
    "#### The GitHub repository , \"linkedin-messaging-api\" by beeper [https://github.com/beeper/linkedin-messaging-api]"
   ]
  },
  {
   "cell_type": "markdown",
   "id": "aca2df95",
   "metadata": {},
   "source": [
    "Appears to be a project that provides an unofficial way to interact with LinkedIn's messaging features through an API. Please keep in mind that using unofficial or third-party APIs like this may still go against LinkedIn's terms of use, and there can be potential risks associated with using such tools. \n",
    "\n",
    "Before using this repository, it's essential to thoroughly review its documentation and consider the potential consequences, such as account suspension, as LinkedIn may actively monitor and restrict access from unofficial APIs. Always ensure that you are in compliance with LinkedIn's terms of use and applicable laws when using such tools."
   ]
  },
  {
   "cell_type": "markdown",
   "id": "cbf84df3",
   "metadata": {},
   "source": [
    "1.Google\n",
    "\n",
    "2.Netflix\n",
    "\n",
    "3.Spotify\n",
    "\n",
    "4.Reddit\n",
    "\n",
    "5.Instagram\n",
    "\n",
    "\n"
   ]
  },
  {
   "cell_type": "code",
   "execution_count": null,
   "id": "df551e06",
   "metadata": {},
   "outputs": [],
   "source": []
  }
 ],
 "metadata": {
  "kernelspec": {
   "display_name": "Python 3 (ipykernel)",
   "language": "python",
   "name": "python3"
  },
  "language_info": {
   "codemirror_mode": {
    "name": "ipython",
    "version": 3
   },
   "file_extension": ".py",
   "mimetype": "text/x-python",
   "name": "python",
   "nbconvert_exporter": "python",
   "pygments_lexer": "ipython3",
   "version": "3.11.3"
  }
 },
 "nbformat": 4,
 "nbformat_minor": 5
}
